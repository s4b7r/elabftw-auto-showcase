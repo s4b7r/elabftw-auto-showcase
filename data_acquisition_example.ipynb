{
 "cells": [
  {
   "cell_type": "markdown",
   "id": "db087ab0-6b13-462c-8bd0-f399753992d4",
   "metadata": {},
   "source": [
    "## Have a look into the sample file"
   ]
  },
  {
   "cell_type": "markdown",
   "id": "d0adf449-aa21-4bb8-b476-a53f336446f9",
   "metadata": {},
   "source": [
    "This file is just an example. You could find something similar e.g. in the header of a CSV file.\n",
    "\n",
    "In this notebook we will only handle metadata."
   ]
  },
  {
   "cell_type": "code",
   "execution_count": null,
   "id": "e9980415-d1ae-4f4a-9518-d17cf2c7842c",
   "metadata": {},
   "outputs": [],
   "source": [
    "SAMPLE_FILE = 'sample.txt'"
   ]
  },
  {
   "cell_type": "code",
   "execution_count": null,
   "id": "da30c9d9-67a4-4674-9ba2-58543ac85b5a",
   "metadata": {},
   "outputs": [],
   "source": [
    "with open(SAMPLE_FILE, 'r') as metafile:\n",
    "    for l in metafile:\n",
    "        print(l)"
   ]
  },
  {
   "cell_type": "markdown",
   "id": "c97fe011-d39c-4680-8c4f-e8215641a8bb",
   "metadata": {},
   "source": [
    "## Parse the sample file"
   ]
  },
  {
   "cell_type": "code",
   "execution_count": null,
   "id": "ae4bb219-9fe7-4c30-a164-8a175e85d7d5",
   "metadata": {},
   "outputs": [],
   "source": [
    "with open(SAMPLE_FILE, 'r') as metafile:\n",
    "    meta = {k: v.strip() for k, v in (l.split('=') for l in metafile)}"
   ]
  },
  {
   "cell_type": "code",
   "execution_count": null,
   "id": "428953b4-c3c6-416d-a631-35189bc3d5a8",
   "metadata": {},
   "outputs": [],
   "source": [
    "meta"
   ]
  },
  {
   "cell_type": "markdown",
   "id": "3ba33efa-4f38-4976-ad9b-ff4a73ce20b3",
   "metadata": {},
   "source": [
    "## Setup eLabFTW API"
   ]
  },
  {
   "cell_type": "code",
   "execution_count": null,
   "id": "7947f8ae-2f94-441c-8d82-34ea2e994418",
   "metadata": {},
   "outputs": [],
   "source": [
    "import elabapi_python"
   ]
  },
  {
   "cell_type": "markdown",
   "id": "9253f1df-056c-483e-9489-78b977b6642c",
   "metadata": {},
   "source": [
    "`API_KEY` and `API_HOST_URL` need to be set for your individual environment.\n",
    "\n",
    "Your API Host URL could look something like `https://my-elab.university.com/api/v2`.\n",
    "\n",
    "Your API Key is a personalised secret. Whoever owns it, has access as if they had your username and password. **Keep it safe!** To generate an API Key:\n",
    "\n",
    "- log in to your eLabFTW instance,\n",
    "- go to the user panel via the button in the top right,\n",
    "- switch to the API Keys tab,\n",
    "- and create a new key."
   ]
  },
  {
   "cell_type": "code",
   "execution_count": null,
   "id": "cadfb9a7-993c-45dd-8caf-3f7f2060bd8a",
   "metadata": {},
   "outputs": [],
   "source": [
    "API_KEY = '123abc456def'\n",
    "API_HOST_URL = 'https://my-elab.university.com/api/v2'"
   ]
  },
  {
   "cell_type": "code",
   "execution_count": null,
   "id": "9f2057e6-7a78-40b4-b1ca-63bd493e25c1",
   "metadata": {},
   "outputs": [],
   "source": [
    "# This is not required for the example, but made my life easier during development, to make sure I don't publish my URLs and keys by accident.\n",
    "from dotenv import dotenv_values\n",
    "config = dotenv_values(\".env\")\n",
    "API_KEY = config.get('API_KEY', API_KEY)\n",
    "API_HOST_URL = config.get('API_HOST_URL', API_HOST_URL)"
   ]
  },
  {
   "cell_type": "code",
   "execution_count": null,
   "id": "1c2c2c37-e04a-4de6-8b1d-8325f5c5ac82",
   "metadata": {},
   "outputs": [],
   "source": [
    "configuration = elabapi_python.Configuration()\n",
    "configuration.api_key['api_key'] = API_KEY\n",
    "configuration.api_key_prefix['api_key'] = 'Authorization'\n",
    "configuration.host = API_HOST_URL\n",
    "configuration.debug = False\n",
    "configuration.verify_ssl = True"
   ]
  },
  {
   "cell_type": "code",
   "execution_count": null,
   "id": "7c4a5abe-b11e-4714-aa97-f8d4a9756b89",
   "metadata": {},
   "outputs": [],
   "source": [
    "api_client = elabapi_python.ApiClient(configuration)\n",
    "api_client.set_default_header(header_name='Authorization', header_value=API_KEY) # fix issue with Authorization header not being properly set by the generated lib\n",
    "experiments_api = elabapi_python.ExperimentsApi(api_client)"
   ]
  },
  {
   "cell_type": "markdown",
   "id": "911c82d8-abdc-4028-9dac-e59b750f085a",
   "metadata": {},
   "source": [
    "## Create a new, empty experiment"
   ]
  },
  {
   "cell_type": "code",
   "execution_count": null,
   "id": "3574c7e4-9daf-4cf0-bee7-0f4988b0ac45",
   "metadata": {},
   "outputs": [],
   "source": [
    "response = experiments_api.post_experiment_with_http_info()"
   ]
  },
  {
   "cell_type": "markdown",
   "id": "d9dd24ad-d2fd-473f-b266-f86e829f1da4",
   "metadata": {},
   "source": [
    "Have a look into your experiments. You should now find an untitled experiment."
   ]
  },
  {
   "cell_type": "markdown",
   "id": "54bfeda6-7817-441a-8308-de1302dd4519",
   "metadata": {},
   "source": [
    "### Have a look at the result in Python\n",
    "\n",
    "You got back an answer from eLabFTW. If you look inside, you can find e.g. the API URL that directly accesses the new experiment. In it, you can see the new experiment's id at the end. We will filter out that id to you use it in the following steps."
   ]
  },
  {
   "cell_type": "code",
   "execution_count": null,
   "id": "eaa4bb61-0eda-42d9-abf1-b8a5f722ba48",
   "metadata": {},
   "outputs": [],
   "source": [
    "import pprint"
   ]
  },
  {
   "cell_type": "code",
   "execution_count": null,
   "id": "c01e4edc-cba2-4873-9e2b-34e8cfe1cb8d",
   "metadata": {},
   "outputs": [],
   "source": [
    "pprint.pprint({k:v for k,v in zip(response[2].keys(), response[2].values())})"
   ]
  },
  {
   "cell_type": "code",
   "execution_count": null,
   "id": "d6008400-bd14-429a-b9ed-7544123e463b",
   "metadata": {},
   "outputs": [],
   "source": [
    "def filter_experiment_number(response):\n",
    "    \"\"\"\n",
    "    Extract the experiment id from the response.\n",
    "\n",
    "    :param response: The response from the API containing the experiment link.\n",
    "    :return: The extracted experiment number.\n",
    "    \"\"\"\n",
    "    location = response[2]['Location']\n",
    "    for i in range(len(location) - 1, -1, -1):\n",
    "        if location[i] == '/':\n",
    "            experiment_number = location[i+1:]\n",
    "            break\n",
    "    return experiment_number"
   ]
  },
  {
   "cell_type": "code",
   "execution_count": null,
   "id": "de3106f7-787b-4a59-b5b3-597ce242accd",
   "metadata": {},
   "outputs": [],
   "source": [
    "experiment_id = filter_experiment_number(response)"
   ]
  },
  {
   "cell_type": "code",
   "execution_count": null,
   "id": "0c571904-a565-450d-bbaf-31a2d989489f",
   "metadata": {},
   "outputs": [],
   "source": [
    "experiment_id"
   ]
  },
  {
   "cell_type": "markdown",
   "id": "58de04f4-1072-4416-8dcd-a23a15d0e9f8",
   "metadata": {},
   "source": [
    "## Give the new experiment a title"
   ]
  },
  {
   "cell_type": "code",
   "execution_count": null,
   "id": "e7f59b96-9a88-49cf-864c-eaa02caa8629",
   "metadata": {},
   "outputs": [],
   "source": [
    "response = experiments_api.patch_experiment(experiment_id, body={\"title\": 'A nice new experiment'})"
   ]
  },
  {
   "cell_type": "markdown",
   "id": "7e69b891-5212-47a0-9fbd-4ec6c998b25f",
   "metadata": {},
   "source": [
    "Have a look into your experiment in eLabFTW.\n",
    "\n",
    "If you want, you can also have a look into the response:"
   ]
  },
  {
   "cell_type": "code",
   "execution_count": null,
   "id": "0a4f3259-14b5-4596-a4e4-4270e44e27e4",
   "metadata": {},
   "outputs": [],
   "source": [
    "response"
   ]
  },
  {
   "cell_type": "markdown",
   "id": "90a2b398-9291-44cc-a9b9-3a7809a51020",
   "metadata": {},
   "source": [
    "## Add the metadata from the sample file to your new experiment"
   ]
  },
  {
   "cell_type": "markdown",
   "id": "17bf0b6b-6e12-48cd-a6ae-5565c5ea92d0",
   "metadata": {},
   "source": [
    "We will use the Python built-in JSON package to generate a JSON string from the metadata object `meta` (actually it is a dict), that we created earlier."
   ]
  },
  {
   "cell_type": "code",
   "execution_count": null,
   "id": "6c34e840-52f3-4cfa-845c-ccc0c9f9da54",
   "metadata": {},
   "outputs": [],
   "source": [
    "import json"
   ]
  },
  {
   "cell_type": "markdown",
   "id": "33affef3-88c8-4ad9-a181-252240a662ea",
   "metadata": {},
   "source": [
    "Now, add that to your experiment via the eLabFTW API."
   ]
  },
  {
   "cell_type": "code",
   "execution_count": null,
   "id": "6820ff5f-aafc-48d4-aec5-0e01e6a67592",
   "metadata": {},
   "outputs": [],
   "source": [
    "response = experiments_api.patch_experiment(experiment_id, body={\"metadata\": json.dumps(meta)})"
   ]
  },
  {
   "cell_type": "markdown",
   "id": "a1fe94bb-a447-4620-b7d9-dd87bc186c04",
   "metadata": {},
   "source": [
    "Have a look into your experiment in eLabFTW.\n",
    "\n",
    "If you want, you can also have a look into the response:"
   ]
  },
  {
   "cell_type": "code",
   "execution_count": null,
   "id": "f4fea4b0-1cd0-495e-b58c-9ae28a80c84f",
   "metadata": {},
   "outputs": [],
   "source": [
    "response"
   ]
  },
  {
   "cell_type": "markdown",
   "id": "b0443a9d-95e2-4bbb-9be1-e441d3a59ecd",
   "metadata": {},
   "source": [
    "# That's it!"
   ]
  }
 ],
 "metadata": {
  "language_info": {
   "name": "python",
   "pygments_lexer": "ipython3"
  }
 },
 "nbformat": 4,
 "nbformat_minor": 5
}
